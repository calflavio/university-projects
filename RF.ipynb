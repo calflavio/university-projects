{
 "cells": [
  {
   "cell_type": "code",
   "execution_count": 9,
   "id": "acb121c2",
   "metadata": {},
   "outputs": [],
   "source": [
    "%matplotlib inline  \n",
    "#%matplotlib notebook\n",
    "import numpy as np\n",
    "import scipy as sp\n",
    "import matplotlib.pyplot as plt\n",
    "import pandas as pd\n",
    "\n",
    "import sklearn\n",
    "from sklearn.ensemble import RandomForestClassifier\n",
    "from sklearn.model_selection import GridSearchCV\n",
    "from sklearn.svm import SVC\n",
    "from sklearn import linear_model, preprocessing"
   ]
  },
  {
   "cell_type": "code",
   "execution_count": 10,
   "id": "6b63c6c0",
   "metadata": {},
   "outputs": [],
   "source": [
    "ID = 2054551\n",
    "np.random.seed(ID)\n",
    "data=np.genfromtxt('dataset_3Body_NSC.dat',skip_header=1)"
   ]
  },
  {
   "cell_type": "code",
   "execution_count": 11,
   "id": "c036a4fd",
   "metadata": {},
   "outputs": [],
   "source": [
    "#pd.DataFrame(data)"
   ]
  },
  {
   "cell_type": "code",
   "execution_count": 12,
   "id": "85884170",
   "metadata": {},
   "outputs": [],
   "source": [
    "data_mod=np.delete(data,[0,7,8,9,10,14,15,16,19,20,21],1)"
   ]
  },
  {
   "cell_type": "code",
   "execution_count": 13,
   "id": "fb0e441e",
   "metadata": {},
   "outputs": [
    {
     "name": "stdout",
     "output_type": "stream",
     "text": [
      "[ 8.97224000e+00  7.53470000e+00  3.55802500e+01  2.59558259e-06\n",
      "  9.73426482e-01  1.02204202e-05 -3.02142686e+00  3.70249403e+01\n",
      "  4.09810100e+00  1.06255774e+09  1.00000000e+00]\n"
     ]
    }
   ],
   "source": [
    "print(data_mod[0])"
   ]
  },
  {
   "cell_type": "code",
   "execution_count": 14,
   "id": "bc997556",
   "metadata": {},
   "outputs": [
    {
     "data": {
      "text/plain": [
       "(100000, 11)"
      ]
     },
     "execution_count": 14,
     "metadata": {},
     "output_type": "execute_result"
    }
   ],
   "source": [
    "np.shape(data_mod)"
   ]
  },
  {
   "cell_type": "code",
   "execution_count": 40,
   "id": "add2e451",
   "metadata": {},
   "outputs": [
    {
     "name": "stdout",
     "output_type": "stream",
     "text": [
      "X_train shape: (10000, 10) X_test shape: (17000, 10) || y_train shape: (10000,) y_test shape: (17000,)\n",
      "Labels in training dataset:  [0. 1. 2.]\n",
      "Frequencies in training dataset:  [3300 3334 3366]\n",
      "Mean of the training input data: [-0. -0. -0. -0. -0. -0. -0. -0. -0. -0.]\n",
      "Std of the training input data: [1. 1. 1. 1. 1. 1. 1. 1. 1. 1.]\n",
      "Mean of the test input data: [ 0.00476181 -0.00069179 -0.02091939 -0.00346478  0.0144616  -0.01011483\n",
      " -0.00752668 -0.01526175  0.02221035 -0.00900701]\n",
      "Std of the test input data: [1.00231215 1.00222805 0.9869867  1.02386673 1.00781215 0.91469777\n",
      " 1.00602863 0.99954872 0.98655148 0.80664914]\n"
     ]
    }
   ],
   "source": [
    "x=data_mod[:,:-1]\n",
    "y=data_mod[:,-1]\n",
    "\n",
    "\n",
    "'''#crop\n",
    "index_0=np.where(y==0)[0]\n",
    "index_1=np.where(y==1)[0]\n",
    "index_2=np.where(y==2)[0]\n",
    "\n",
    "k=6000\n",
    "index=np.concatenate((index_0[:k],index_1[:k],index_2[:k]))\n",
    "\n",
    "X_train=x[index]\n",
    "y_train=y[index]\n",
    "permutation =  np.random.permutation(len(y_train))\n",
    "X_train =X_train[permutation]\n",
    "y_train=y_train[permutation]\n",
    "\n",
    "index=np.concatenate((index_0[k:],index_1[k:],index_2[k:]))\n",
    "\n",
    "X_test=x[index]\n",
    "y_test=y[index]\n",
    "permutation = np.random.permutation(len(X_test))\n",
    "X_test =X_test[permutation]\n",
    "y_test=y_test[permutation]\n",
    "\n",
    "#crop'''\n",
    "\n",
    "index_0=np.where(y==0)[0]\n",
    "index_1=np.where(y==1)[0]\n",
    "index_2=np.where(y==2)[0]\n",
    "\n",
    "k=9000\n",
    "index=np.concatenate((index_0[:k],index_1[:k],index_2[:k]))\n",
    "\n",
    "X=x[index]\n",
    "Y=y[index]\n",
    "\n",
    "permutation =  np.random.permutation(len(Y))\n",
    "X=X[permutation]\n",
    "Y=Y[permutation]\n",
    "\n",
    "m_training = 10000\n",
    "\n",
    "X_train = X[:m_training,:]\n",
    "X_test = X[m_training:,:]\n",
    "Y_train = Y[:m_training] \n",
    "Y_test = Y[m_training:]\n",
    "\n",
    "print(\"X_train shape:\", X_train.shape,\"X_test shape:\", X_test.shape,\"||\",\"y_train shape:\",  Y_train.shape,\"y_test shape:\", Y_test.shape)\n",
    "\n",
    "labels, freqs = np.unique(Y_train, return_counts=True) \n",
    "print(\"Labels in training dataset: \", labels)\n",
    "print(\"Frequencies in training dataset: \", freqs)\n",
    "\n",
    "# standardize the input matrix\n",
    "# the transformation is computed on training data and then used on all the 3 sets\n",
    "scaler = preprocessing.StandardScaler().fit(X_train) \n",
    "\n",
    "np.set_printoptions(suppress=True) \n",
    "X_train =  scaler.transform(X_train)\n",
    "print (\"Mean of the training input data:\", X_train.mean(axis=0))\n",
    "print (\"Std of the training input data:\",X_train.std(axis=0))\n",
    "\n",
    "X_test = scaler.transform(X_test)\n",
    "print (\"Mean of the test input data:\", X_test.mean(axis=0))\n",
    "print (\"Std of the test input data:\", X_test.std(axis=0))"
   ]
  },
  {
   "cell_type": "code",
   "execution_count": null,
   "id": "aa7c345c",
   "metadata": {},
   "outputs": [],
   "source": []
  },
  {
   "cell_type": "code",
   "execution_count": 41,
   "id": "233a8b91",
   "metadata": {},
   "outputs": [
    {
     "data": {
      "text/plain": [
       "'from sklearn import linear_model, preprocessing\\nscaler = preprocessing.StandardScaler().fit(X_train) \\n\\nnp.set_printoptions(suppress=True) \\nX_train =  scaler.transform(X_train)\\n\\nprint (\"Mean of the training input data:\", X_train.mean(axis=0))\\nprint (\"Std of the training input data:\",X_train.std(axis=0))\\n\\nX_test = scaler.transform(X_test)\\nprint (\"Mean of the test input data:\", X_test.mean(axis=0))\\nprint (\"Std of the test input data:\", X_test.std(axis=0))'"
      ]
     },
     "execution_count": 41,
     "metadata": {},
     "output_type": "execute_result"
    }
   ],
   "source": [
    "'''from sklearn import linear_model, preprocessing\n",
    "scaler = preprocessing.StandardScaler().fit(X_train) \n",
    "\n",
    "np.set_printoptions(suppress=True) \n",
    "X_train =  scaler.transform(X_train)\n",
    "\n",
    "print (\"Mean of the training input data:\", X_train.mean(axis=0))\n",
    "print (\"Std of the training input data:\",X_train.std(axis=0))\n",
    "\n",
    "X_test = scaler.transform(X_test)\n",
    "print (\"Mean of the test input data:\", X_test.mean(axis=0))\n",
    "print (\"Std of the test input data:\", X_test.std(axis=0))'''"
   ]
  },
  {
   "cell_type": "code",
   "execution_count": 53,
   "id": "b56bd0c5",
   "metadata": {},
   "outputs": [
    {
     "data": {
      "text/plain": [
       "GridSearchCV(cv=4,\n",
       "             estimator=RandomForestClassifier(oob_score=True,\n",
       "                                              random_state=2054551),\n",
       "             param_grid={'max_features': ['sqrt'], 'max_leaf_nodes': [400],\n",
       "                         'n_estimators': [400]},\n",
       "             return_train_score=True)"
      ]
     },
     "execution_count": 53,
     "metadata": {},
     "output_type": "execute_result"
    }
   ],
   "source": [
    "rf=RandomForestClassifier(random_state=ID,oob_score=True)#,verbose=True)\n",
    "param={'max_leaf_nodes':[400],'n_estimators':[400], 'max_features':['sqrt']}\n",
    "rf_cv=GridSearchCV(rf,param_grid=param, cv=4, \n",
    "                           return_train_score=True)\n",
    "rf_cv.fit(X_train,Y_train)"
   ]
  },
  {
   "cell_type": "code",
   "execution_count": 54,
   "id": "6014301c",
   "metadata": {},
   "outputs": [
    {
     "name": "stdout",
     "output_type": "stream",
     "text": [
      "\n",
      "All scores on the grid: \n",
      "   param_max_leaf_nodes  mean_test_score  mean_train_score\n",
      "0                  400           0.6327            0.8717\n"
     ]
    }
   ],
   "source": [
    "all_scores=pd.DataFrame(rf_cv.cv_results_)\n",
    "print(\"\\nAll scores on the grid:\",\"\\n\",\n",
    "      all_scores[['param_max_leaf_nodes','mean_test_score', 'mean_train_score']])"
   ]
  },
  {
   "cell_type": "code",
   "execution_count": 55,
   "id": "0c655f8a",
   "metadata": {},
   "outputs": [
    {
     "data": {
      "text/plain": [
       "0.6380588235294118"
      ]
     },
     "execution_count": 55,
     "metadata": {},
     "output_type": "execute_result"
    }
   ],
   "source": [
    "rf_cv.score(X_test,Y_test)"
   ]
  },
  {
   "cell_type": "code",
   "execution_count": 56,
   "id": "03ab44c6",
   "metadata": {},
   "outputs": [
    {
     "name": "stdout",
     "output_type": "stream",
     "text": [
      "Best parameters set found:\n",
      "{'max_features': 'sqrt', 'max_leaf_nodes': 400, 'n_estimators': 400}\n"
     ]
    }
   ],
   "source": [
    "\n",
    "print(\"Best parameters set found:\")\n",
    "print(rf_cv.best_params_)"
   ]
  },
  {
   "cell_type": "code",
   "execution_count": 57,
   "id": "931485f1",
   "metadata": {},
   "outputs": [
    {
     "data": {
      "text/plain": [
       "0.8311"
      ]
     },
     "execution_count": 57,
     "metadata": {},
     "output_type": "execute_result"
    }
   ],
   "source": [
    "rf_cv.score(X_train,Y_train)"
   ]
  },
  {
   "cell_type": "code",
   "execution_count": null,
   "id": "5c1432ed",
   "metadata": {},
   "outputs": [],
   "source": []
  }
 ],
 "metadata": {
  "kernelspec": {
   "display_name": "Python 3",
   "language": "python",
   "name": "python3"
  },
  "language_info": {
   "codemirror_mode": {
    "name": "ipython",
    "version": 3
   },
   "file_extension": ".py",
   "mimetype": "text/x-python",
   "name": "python",
   "nbconvert_exporter": "python",
   "pygments_lexer": "ipython3",
   "version": "3.7.4"
  }
 },
 "nbformat": 4,
 "nbformat_minor": 5
}
