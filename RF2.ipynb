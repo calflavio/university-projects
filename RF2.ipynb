{
 "cells": [
  {
   "cell_type": "code",
   "execution_count": 1,
   "id": "55013105",
   "metadata": {},
   "outputs": [],
   "source": [
    "import numpy as np\n",
    "from sklearn import preprocessing\n",
    "from sklearn.ensemble import RandomForestClassifier\n",
    "from sklearn.model_selection import train_test_split, RandomizedSearchCV\n",
    "from sklearn.metrics import accuracy_score, classification_report\n"
   ]
  },
  {
   "cell_type": "code",
   "execution_count": 2,
   "id": "d1b77c08",
   "metadata": {},
   "outputs": [],
   "source": [
    "# carica il dataset\n",
    "ID = 2054551\n",
    "np.random.seed(ID)\n",
    "data=np.genfromtxt('dataset_3Body_NSC.dat',skip_header=1)\n",
    "data_mod=np.delete(data,[0,7,14,15,16,20,21],1)\n",
    "\n"
   ]
  },
  {
   "cell_type": "code",
   "execution_count": 4,
   "id": "5b32bf71",
   "metadata": {},
   "outputs": [],
   "source": [
    "# divide il dataset in training set e test set\n",
    "X=data_mod[:,:-2]\n",
    "Y=data_mod[:,-2]\n",
    "M=data_mod[:,-1]\n",
    "# normalizza i dati\n",
    "scaler = preprocessing.StandardScaler()\n",
    "X = scaler.fit_transform(X)\n",
    "permutation = np.random.permutation(X.shape[0])\n",
    "\n",
    "X = X[permutation]\n",
    "Y = Y[permutation]\n",
    "\n",
    "m_training=40000\n",
    "m_test=60000\n",
    "\n",
    "X_train, X_test = X[:m_training], X[m_training:m_training+m_test]\n",
    "Y_train, Y_test = Y[:m_training], Y[m_training:m_training+m_test]\n",
    "\n",
    "\n",
    "# definisci i parametri del classificatore\n",
    "n_estimators = [100,400,700,1000]\n",
    "max_features = ['auto', 'sqrt']\n",
    "min_samples_split = [2, 5, 10]\n",
    "min_samples_leaf = [1, 2, 4]\n",
    "bootstrap = [True, False]\n"
   ]
  },
  {
   "cell_type": "code",
   "execution_count": 11,
   "id": "8c570c19",
   "metadata": {},
   "outputs": [
    {
     "name": "stderr",
     "output_type": "stream",
     "text": [
      "/Users/linda/opt/anaconda3/lib/python3.9/site-packages/sklearn/model_selection/_search.py:292: UserWarning: The total space of parameters 3 is smaller than n_iter=10. Running 3 iterations. For exhaustive searches, use GridSearchCV.\n",
      "  warnings.warn(\n"
     ]
    },
    {
     "name": "stdout",
     "output_type": "stream",
     "text": [
      "Fitting 3 folds for each of 3 candidates, totalling 9 fits\n",
      "[CV] END bootstrap=True, max_leaf_nodes=200, min_samples_split=10, n_estimators=1000; total time= 1.1min\n",
      "[CV] END bootstrap=True, max_leaf_nodes=200, min_samples_split=10, n_estimators=1000; total time= 1.1min\n",
      "[CV] END bootstrap=True, max_leaf_nodes=200, min_samples_split=10, n_estimators=1000; total time= 1.0min\n",
      "[CV] END bootstrap=True, max_leaf_nodes=350, min_samples_split=10, n_estimators=1000; total time= 1.1min\n",
      "[CV] END bootstrap=True, max_leaf_nodes=350, min_samples_split=10, n_estimators=1000; total time= 1.1min\n",
      "[CV] END bootstrap=True, max_leaf_nodes=350, min_samples_split=10, n_estimators=1000; total time= 1.1min\n",
      "[CV] END bootstrap=True, max_leaf_nodes=450, min_samples_split=10, n_estimators=1000; total time= 1.2min\n",
      "[CV] END bootstrap=True, max_leaf_nodes=450, min_samples_split=10, n_estimators=1000; total time= 1.2min\n",
      "[CV] END bootstrap=True, max_leaf_nodes=450, min_samples_split=10, n_estimators=1000; total time= 1.2min\n"
     ]
    },
    {
     "data": {
      "text/plain": [
       "RandomizedSearchCV(cv=3, estimator=RandomForestClassifier(oob_score=True),\n",
       "                   param_distributions={'bootstrap': [True],\n",
       "                                        'max_leaf_nodes': [200, 350, 450],\n",
       "                                        'min_samples_split': [10],\n",
       "                                        'n_estimators': [1000]},\n",
       "                   random_state=2054551, return_train_score=True, verbose=2)"
      ]
     },
     "execution_count": 11,
     "metadata": {},
     "output_type": "execute_result"
    }
   ],
   "source": [
    "# crea il dizionario dei parametri\n",
    "n_estimators = [1000]\n",
    "min_samples_split = [10]\n",
    "min_samples_leaf = [1, 2, 4]\n",
    "bootstrap = [True]\n",
    "random_grid = {'n_estimators': n_estimators,\n",
    "               #'max_features': max_features,\n",
    "               'min_samples_split': min_samples_split,\n",
    "               #'min_samples_leaf': min_samples_leaf,\n",
    "               'bootstrap': bootstrap,\n",
    "              'max_leaf_nodes':[200,350,450]}\n",
    "\n",
    "# crea l'oggetto RandomizedSearchCV\n",
    "rfc = RandomForestClassifier(oob_score=True)\n",
    "rf_random = RandomizedSearchCV(estimator=rfc, param_distributions=random_grid, \n",
    "                               n_iter=10, cv=3, verbose=2, random_state=ID, \n",
    "                               return_train_score=True) #n_jobs=-1)\n",
    "\n",
    "# addestra il modello sui dati di training\n",
    "rf_random.fit(X_train, Y_train)\n"
   ]
  },
  {
   "cell_type": "code",
   "execution_count": 12,
   "id": "2d512872",
   "metadata": {},
   "outputs": [
    {
     "name": "stdout",
     "output_type": "stream",
     "text": [
      "Accuracy: 66.57%\n",
      "Classification report:\n",
      "               precision    recall  f1-score   support\n",
      "\n",
      "         0.0       0.72      0.84      0.78     32041\n",
      "         1.0       0.54      0.57      0.56     12482\n",
      "         2.0       0.44      0.05      0.08      5726\n",
      "         3.0       0.65      0.57      0.60      9751\n",
      "\n",
      "    accuracy                           0.67     60000\n",
      "   macro avg       0.59      0.51      0.50     60000\n",
      "weighted avg       0.64      0.67      0.64     60000\n",
      "\n"
     ]
    }
   ],
   "source": [
    "# valuta le prestazioni del modello sul set di test\n",
    "Y_pred = rf_random.predict(X_test)\n",
    "accuracy = accuracy_score(Y_test, Y_pred)\n",
    "report = classification_report(Y_test, Y_pred)\n",
    "\n",
    "# stampa i risultati\n",
    "print(\"Accuracy: {:.2f}%\".format(accuracy * 100))\n",
    "print(\"Classification report:\\n\", report)"
   ]
  },
  {
   "cell_type": "code",
   "execution_count": 13,
   "id": "90d7efe3",
   "metadata": {},
   "outputs": [
    {
     "name": "stdout",
     "output_type": "stream",
     "text": [
      "{'n_estimators': 1000, 'min_samples_split': 10, 'max_leaf_nodes': 450, 'bootstrap': True}\n",
      "\n",
      "All scores on the grid: \n",
      "    mean_fit_time  std_fit_time  mean_score_time  std_score_time  \\\n",
      "0      62.290666      1.073203         1.586902        0.018235   \n",
      "1      66.131677      0.307079         1.729416        0.024359   \n",
      "2      68.723566      0.573356         1.849472        0.116677   \n",
      "\n",
      "  param_n_estimators param_min_samples_split param_max_leaf_nodes  \\\n",
      "0               1000                      10                  200   \n",
      "1               1000                      10                  350   \n",
      "2               1000                      10                  450   \n",
      "\n",
      "  param_bootstrap                                             params  \\\n",
      "0            True  {'n_estimators': 1000, 'min_samples_split': 10...   \n",
      "1            True  {'n_estimators': 1000, 'min_samples_split': 10...   \n",
      "2            True  {'n_estimators': 1000, 'min_samples_split': 10...   \n",
      "\n",
      "   split0_test_score  split1_test_score  split2_test_score  mean_test_score  \\\n",
      "0           0.660492           0.662342           0.666017         0.662950   \n",
      "1           0.664242           0.668042           0.669242         0.667175   \n",
      "2           0.665292           0.669092           0.670367         0.668250   \n",
      "\n",
      "   std_test_score  rank_test_score  split0_train_score  split1_train_score  \\\n",
      "0        0.002296                3            0.705768            0.702704   \n",
      "1        0.002131                2            0.736443            0.734578   \n",
      "2        0.002156                1            0.756131            0.752953   \n",
      "\n",
      "   split2_train_score  mean_train_score  std_train_score  \n",
      "0            0.705254          0.704575         0.001340  \n",
      "1            0.736828          0.735950         0.000983  \n",
      "2            0.755391          0.754825         0.001358  \n"
     ]
    }
   ],
   "source": [
    "import pandas as pd\n",
    "all_scores=pd.DataFrame(rf_random.cv_results_)\n",
    "print(rf_random.best_params_)\n",
    "print(\"\\nAll scores on the grid:\",\"\\n\",\n",
    "      all_scores)"
   ]
  },
  {
   "cell_type": "code",
   "execution_count": 14,
   "id": "7f725cce",
   "metadata": {},
   "outputs": [
    {
     "name": "stdout",
     "output_type": "stream",
     "text": [
      "0.6682500739584637\n"
     ]
    }
   ],
   "source": [
    "print(rf_random.best_score_)"
   ]
  },
  {
   "cell_type": "code",
   "execution_count": 16,
   "id": "d046dbc3",
   "metadata": {},
   "outputs": [
    {
     "data": {
      "text/plain": [
       "0.6657333333333333"
      ]
     },
     "execution_count": 16,
     "metadata": {},
     "output_type": "execute_result"
    }
   ],
   "source": [
    "rf_random.score(X_test,Y_test)"
   ]
  },
  {
   "cell_type": "code",
   "execution_count": null,
   "id": "c3ab0bd1",
   "metadata": {},
   "outputs": [],
   "source": []
  },
  {
   "cell_type": "code",
   "execution_count": null,
   "id": "11b22823",
   "metadata": {},
   "outputs": [],
   "source": []
  },
  {
   "cell_type": "code",
   "execution_count": null,
   "id": "6a796c86",
   "metadata": {},
   "outputs": [],
   "source": []
  },
  {
   "cell_type": "code",
   "execution_count": null,
   "id": "96c13dbc",
   "metadata": {},
   "outputs": [],
   "source": []
  }
 ],
 "metadata": {
  "kernelspec": {
   "display_name": "Python 3 (ipykernel)",
   "language": "python",
   "name": "python3"
  },
  "language_info": {
   "codemirror_mode": {
    "name": "ipython",
    "version": 3
   },
   "file_extension": ".py",
   "mimetype": "text/x-python",
   "name": "python",
   "nbconvert_exporter": "python",
   "pygments_lexer": "ipython3",
   "version": "3.9.13"
  }
 },
 "nbformat": 4,
 "nbformat_minor": 5
}
